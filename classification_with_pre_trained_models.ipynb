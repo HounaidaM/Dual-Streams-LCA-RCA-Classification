{
 "cells": [
  {
   "cell_type": "code",
   "execution_count": null,
   "metadata": {
    "execution": {
     "iopub.execute_input": "2023-04-06T09:59:26.062403Z",
     "iopub.status.busy": "2023-04-06T09:59:26.062133Z",
     "iopub.status.idle": "2023-04-06T09:59:42.036414Z",
     "shell.execute_reply": "2023-04-06T09:59:42.035307Z",
     "shell.execute_reply.started": "2023-04-06T09:59:26.062376Z"
    },
    "id": "erbDQLI-Cf7r"
   },
   "outputs": [],
   "source": [
    "from keras.applications import VGG16\n",
    "from tensorflow import keras\n",
    "from keras.models import Model\n",
    "from keras.layers import Dense, Flatten\n",
    "from keras.preprocessing.image import ImageDataGenerator\n",
    "import matplotlib.pyplot as plt\n",
    "import numpy as np\n",
    "from tensorflow.keras.callbacks import ModelCheckpoint, EarlyStopping\n",
    "from sklearn.metrics import accuracy_score, f1_score, precision_score, recall_score, classification_report, confusion_matrix"
   ]
  },
  {
   "cell_type": "markdown",
   "metadata": {
    "id": "bFG3cXU0Cf71"
   },
   "source": [
    "# Loading data"
   ]
  },
  {
   "cell_type": "code",
   "execution_count": null,
   "metadata": {
    "execution": {
     "iopub.execute_input": "2023-04-06T09:59:42.050607Z",
     "iopub.status.busy": "2023-04-06T09:59:42.050259Z",
     "iopub.status.idle": "2023-04-06T09:59:42.061557Z",
     "shell.execute_reply": "2023-04-06T09:59:42.060439Z",
     "shell.execute_reply.started": "2023-04-06T09:59:42.050571Z"
    },
    "id": "fhrwRjp4Cf71"
   },
   "outputs": [],
   "source": [
    "path_train=\"../input/rca-lca/train\"\n",
    "path_test=\"../input/rca-lca/test\""
   ]
  },
  {
   "cell_type": "markdown",
   "metadata": {
    "id": "8rf-KpdeCf72"
   },
   "source": [
    "Image Augmentation"
   ]
  },
  {
   "cell_type": "code",
   "execution_count": null,
   "metadata": {
    "execution": {
     "iopub.execute_input": "2023-04-06T09:59:42.066395Z",
     "iopub.status.busy": "2023-04-06T09:59:42.066118Z",
     "iopub.status.idle": "2023-04-06T09:59:42.076197Z",
     "shell.execute_reply": "2023-04-06T09:59:42.075090Z",
     "shell.execute_reply.started": "2023-04-06T09:59:42.066370Z"
    },
    "id": "V98GdYFFCf73"
   },
   "outputs": [],
   "source": [
    "batch_size=32\n",
    "nb_epochs=20"
   ]
  },
  {
   "cell_type": "code",
   "execution_count": null,
   "metadata": {
    "execution": {
     "iopub.execute_input": "2023-04-06T09:59:42.079550Z",
     "iopub.status.busy": "2023-04-06T09:59:42.078757Z",
     "iopub.status.idle": "2023-04-06T09:59:42.089456Z",
     "shell.execute_reply": "2023-04-06T09:59:42.088365Z",
     "shell.execute_reply.started": "2023-04-06T09:59:42.079516Z"
    },
    "id": "RTWF8Gw-Cf75"
   },
   "outputs": [],
   "source": [
    "# Create data generators for training and validation\n",
    "train_datagen = ImageDataGenerator(rescale=1./255,\n",
    "                                   shear_range=0.2,\n",
    "                                   zoom_range=0.2,\n",
    "                                   horizontal_flip=True,\n",
    "                                   validation_split=0.2)"
   ]
  },
  {
   "cell_type": "code",
   "execution_count": null,
   "metadata": {
    "execution": {
     "iopub.execute_input": "2023-04-06T09:59:42.091745Z",
     "iopub.status.busy": "2023-04-06T09:59:42.091308Z",
     "iopub.status.idle": "2023-04-06T09:59:42.102028Z",
     "shell.execute_reply": "2023-04-06T09:59:42.100946Z",
     "shell.execute_reply.started": "2023-04-06T09:59:42.091708Z"
    },
    "id": "m_zCAOYfCf76"
   },
   "outputs": [],
   "source": [
    "test_datagen = ImageDataGenerator(rescale=1./255)"
   ]
  },
  {
   "cell_type": "code",
   "execution_count": null,
   "metadata": {
    "execution": {
     "iopub.execute_input": "2023-04-06T09:59:42.105135Z",
     "iopub.status.busy": "2023-04-06T09:59:42.104807Z",
     "iopub.status.idle": "2023-04-06T09:59:42.226469Z",
     "shell.execute_reply": "2023-04-06T09:59:42.225544Z",
     "shell.execute_reply.started": "2023-04-06T09:59:42.105109Z"
    },
    "id": "4jrR1FHTCf76",
    "outputId": "ea78b2c3-3e83-4cee-cf12-3620abd7ae3d"
   },
   "outputs": [],
   "source": [
    "train_generator = train_datagen.flow_from_directory(path_train,\n",
    "                                                    subset='training',\n",
    "                                                    target_size=(512, 512),\n",
    "                                                    batch_size=batch_size,\n",
    "                                                    class_mode='binary')"
   ]
  },
  {
   "cell_type": "code",
   "execution_count": null,
   "metadata": {
    "execution": {
     "iopub.execute_input": "2023-04-06T09:59:42.228893Z",
     "iopub.status.busy": "2023-04-06T09:59:42.228060Z",
     "iopub.status.idle": "2023-04-06T09:59:42.336089Z",
     "shell.execute_reply": "2023-04-06T09:59:42.335160Z",
     "shell.execute_reply.started": "2023-04-06T09:59:42.228854Z"
    },
    "id": "40Gk4SIXCf78",
    "outputId": "d7e4b902-e382-4b0e-fb51-1e942e009a4c"
   },
   "outputs": [],
   "source": [
    "validation_generator = train_datagen.flow_from_directory(path_train,\n",
    "                                                        subset='validation',\n",
    "                                                        target_size=(512, 512),\n",
    "                                                        batch_size=batch_size,\n",
    "                                                        class_mode='binary')"
   ]
  },
  {
   "cell_type": "code",
   "execution_count": null,
   "metadata": {
    "execution": {
     "iopub.execute_input": "2023-04-06T09:59:42.337580Z",
     "iopub.status.busy": "2023-04-06T09:59:42.337325Z",
     "iopub.status.idle": "2023-04-06T09:59:43.381035Z",
     "shell.execute_reply": "2023-04-06T09:59:43.379835Z",
     "shell.execute_reply.started": "2023-04-06T09:59:42.337556Z"
    },
    "id": "65n0mohACf79",
    "outputId": "5cc01609-3241-4d20-bc20-bc01c8e7221e"
   },
   "outputs": [],
   "source": [
    "# Evaluate the model on test data\n",
    "test_generator = test_datagen.flow_from_directory(path_test,\n",
    "                                                  target_size=(512, 512),\n",
    "                                                  batch_size=batch_size,\n",
    "                                                  class_mode='binary')"
   ]
  },
  {
   "cell_type": "code",
   "execution_count": null,
   "metadata": {
    "execution": {
     "iopub.execute_input": "2023-04-06T09:59:43.386506Z",
     "iopub.status.busy": "2023-04-06T09:59:43.385923Z",
     "iopub.status.idle": "2023-04-06T09:59:43.392754Z",
     "shell.execute_reply": "2023-04-06T09:59:43.391728Z",
     "shell.execute_reply.started": "2023-04-06T09:59:43.386475Z"
    },
    "id": "hvk5KBtFCf7-"
   },
   "outputs": [],
   "source": [
    "taille_test=1482\n"
   ]
  },
  {
   "cell_type": "markdown",
   "metadata": {
    "id": "xzm5opd5Cf7-"
   },
   "source": [
    "# 1- VGG-16"
   ]
  },
  {
   "cell_type": "markdown",
   "metadata": {
    "id": "1yhF1rpbCf7_"
   },
   "source": [
    "Loading the Base Model"
   ]
  },
  {
   "cell_type": "code",
   "execution_count": null,
   "metadata": {
    "execution": {
     "iopub.execute_input": "2023-04-06T09:59:43.405426Z",
     "iopub.status.busy": "2023-04-06T09:59:43.404984Z",
     "iopub.status.idle": "2023-04-06T09:59:49.169793Z",
     "shell.execute_reply": "2023-04-06T09:59:49.168731Z",
     "shell.execute_reply.started": "2023-04-06T09:59:43.405390Z"
    },
    "id": "gQuk4z5hCf7_",
    "outputId": "ea2c3b81-bb5f-467c-dc43-8a545841c607"
   },
   "outputs": [],
   "source": [
    "# Load pre-trained model without the top layer (classifier)\n",
    "base_model = VGG16(weights='imagenet', include_top=False, input_shape=(512, 512, 3))\n",
    "\n",
    "# Freeze all layers in the base model so they are not trained during the fine-tuning process\n",
    "for layer in base_model.layers:\n",
    "    layer.trainable = False\n",
    "\n",
    "# Add a new classifier on top of the pre-trained model\n",
    "x = base_model.output\n",
    "x = Flatten()(x)\n",
    "x = Dense(256, activation='relu')(x)\n",
    "predictions = Dense(1, activation='sigmoid')(x)\n",
    "model_vgg = Model(inputs=base_model.input, outputs=predictions)"
   ]
  },
  {
   "cell_type": "markdown",
   "metadata": {
    "id": "k1V4UlUBCf8A"
   },
   "source": [
    "Compile and Fit"
   ]
  },
  {
   "cell_type": "code",
   "execution_count": null,
   "metadata": {
    "execution": {
     "iopub.execute_input": "2023-04-06T09:59:49.172938Z",
     "iopub.status.busy": "2023-04-06T09:59:49.172555Z",
     "iopub.status.idle": "2023-04-06T09:59:49.192696Z",
     "shell.execute_reply": "2023-04-06T09:59:49.191797Z",
     "shell.execute_reply.started": "2023-04-06T09:59:49.172901Z"
    },
    "id": "gx1a7FbFCf8A"
   },
   "outputs": [],
   "source": [
    "# Compile the model with binary cross-entropy loss and Adam optimizer\n",
    "model_vgg.compile(loss='binary_crossentropy',\n",
    "              optimizer='adam',\n",
    "              metrics=['accuracy'])"
   ]
  },
  {
   "cell_type": "code",
   "execution_count": null,
   "metadata": {
    "execution": {
     "iopub.execute_input": "2023-04-06T09:59:49.194718Z",
     "iopub.status.busy": "2023-04-06T09:59:49.194318Z",
     "iopub.status.idle": "2023-04-06T09:59:49.200726Z",
     "shell.execute_reply": "2023-04-06T09:59:49.199233Z",
     "shell.execute_reply.started": "2023-04-06T09:59:49.194648Z"
    },
    "id": "TRnGtWY4Cf8A"
   },
   "outputs": [],
   "source": [
    "vgg16_model_name=\"best_vgg_Model.h5\"\n",
    "checkpoint = ModelCheckpoint(vgg16_model_name,  # model filename\n",
    "                             monitor='loss',\n",
    "                             verbose=1, # verbosity - 0 or 1\n",
    "                             save_best_only= True,\n",
    "                             mode='auto')\n",
    "early_stopping = EarlyStopping(monitor='loss',\n",
    "                               patience=5,\n",
    "                               verbose=1,\n",
    "                               mode='auto')"
   ]
  },
  {
   "cell_type": "code",
   "execution_count": null,
   "metadata": {
    "execution": {
     "iopub.execute_input": "2023-04-06T09:59:49.203046Z",
     "iopub.status.busy": "2023-04-06T09:59:49.202668Z",
     "iopub.status.idle": "2023-04-06T10:06:38.881865Z",
     "shell.execute_reply": "2023-04-06T10:06:38.880743Z",
     "shell.execute_reply.started": "2023-04-06T09:59:49.203012Z"
    },
    "id": "WLtbD3fJCf8B",
    "outputId": "df282654-e1ad-469b-ce40-2174847a8a16"
   },
   "outputs": [],
   "source": [
    "# Train the model\n",
    "history_vgg16=model_vgg.fit(train_generator,\n",
    "          steps_per_epoch=len(train_generator),\n",
    "          epochs=nb_epochs,\n",
    "          validation_data=validation_generator,\n",
    "          validation_steps=len(validation_generator),\n",
    "          callbacks=[checkpoint, early_stopping]\n",
    "        )"
   ]
  },
  {
   "cell_type": "code",
   "execution_count": null,
   "metadata": {
    "execution": {
     "iopub.execute_input": "2023-04-06T10:06:38.883834Z",
     "iopub.status.busy": "2023-04-06T10:06:38.883531Z",
     "iopub.status.idle": "2023-04-06T10:06:39.363663Z",
     "shell.execute_reply": "2023-04-06T10:06:39.362660Z",
     "shell.execute_reply.started": "2023-04-06T10:06:38.883805Z"
    },
    "id": "AwzKdjGhCf8H",
    "outputId": "b4e76fd4-abba-443c-a1d7-88fc9ce10f77"
   },
   "outputs": [],
   "source": [
    "plt.figure(figsize=(10, 40))\n",
    "\n",
    "for idx, key in enumerate(history_vgg16.history.keys()):\n",
    "\n",
    "    ax = plt.subplot(8, 2, 1 + idx)\n",
    "    plt.title(key)\n",
    "    plt.plot(history_vgg16.history[key])\n",
    "\n",
    "plt.show()"
   ]
  },
  {
   "cell_type": "code",
   "execution_count": null,
   "metadata": {
    "execution": {
     "iopub.execute_input": "2023-04-06T10:06:39.364978Z",
     "iopub.status.busy": "2023-04-06T10:06:39.364706Z",
     "iopub.status.idle": "2023-04-06T10:06:41.552420Z",
     "shell.execute_reply": "2023-04-06T10:06:41.551344Z",
     "shell.execute_reply.started": "2023-04-06T10:06:39.364952Z"
    },
    "id": "SCYNx040Cf8H",
    "outputId": "2f6f1297-b45d-425f-e7f2-118469ddc170"
   },
   "outputs": [],
   "source": [
    "# load best model\n",
    "best_vgg = keras.models.load_model('/kaggle/working/'+vgg16_model_name)\n",
    "print('loaded...')"
   ]
  },
  {
   "cell_type": "code",
   "execution_count": null,
   "metadata": {
    "execution": {
     "iopub.execute_input": "2023-04-06T10:06:41.554346Z",
     "iopub.status.busy": "2023-04-06T10:06:41.553977Z",
     "iopub.status.idle": "2023-04-06T10:07:23.496587Z",
     "shell.execute_reply": "2023-04-06T10:07:23.495216Z",
     "shell.execute_reply.started": "2023-04-06T10:06:41.554308Z"
    },
    "id": "buOv-9sFCf8J",
    "outputId": "27ba8d36-341d-4408-8aba-f90695601b02"
   },
   "outputs": [],
   "source": [
    "score = best_vgg.evaluate(test_generator, steps=len(test_generator))\n",
    "print('Test loss:', score[0])\n",
    "print('Test accuracy:', score[1])"
   ]
  },
  {
   "cell_type": "code",
   "execution_count": null,
   "metadata": {
    "execution": {
     "iopub.execute_input": "2023-04-06T10:07:23.498961Z",
     "iopub.status.busy": "2023-04-06T10:07:23.498494Z",
     "iopub.status.idle": "2023-04-06T10:07:52.890588Z",
     "shell.execute_reply": "2023-04-06T10:07:52.889535Z",
     "shell.execute_reply.started": "2023-04-06T10:07:23.498900Z"
    },
    "id": "fU2dUS1GCf8J",
    "outputId": "77a4f793-7b02-4bc0-d8e6-c260f94da8b9"
   },
   "outputs": [],
   "source": [
    "#Confution Matrix and Classification Report\n",
    "Y_pred = best_vgg.predict(test_generator, taille_test // batch_size+1)\n",
    "y_pred = np.argmax(Y_pred, axis=1)\n",
    "print('Confusion Matrix')\n",
    "print(confusion_matrix(test_generator.classes, y_pred))"
   ]
  },
  {
   "cell_type": "code",
   "execution_count": null,
   "metadata": {
    "execution": {
     "iopub.execute_input": "2023-04-06T10:07:52.892882Z",
     "iopub.status.busy": "2023-04-06T10:07:52.892428Z",
     "iopub.status.idle": "2023-04-06T10:07:52.914532Z",
     "shell.execute_reply": "2023-04-06T10:07:52.913388Z",
     "shell.execute_reply.started": "2023-04-06T10:07:52.892842Z"
    },
    "id": "X_8vlv9JCf8K",
    "outputId": "8b126897-aaad-4510-96fd-7487084268f9"
   },
   "outputs": [],
   "source": [
    "print('Classification Report')\n",
    "target_names = ['Left', 'Right']\n",
    "print(classification_report(test_generator.classes,\n",
    "                            y_pred,\n",
    "                            target_names=target_names))"
   ]
  },
  {
   "cell_type": "code",
   "execution_count": null,
   "metadata": {
    "execution": {
     "iopub.execute_input": "2023-04-06T11:06:10.250584Z",
     "iopub.status.busy": "2023-04-06T11:06:10.249593Z",
     "iopub.status.idle": "2023-04-06T11:06:10.257700Z",
     "shell.execute_reply": "2023-04-06T11:06:10.256600Z",
     "shell.execute_reply.started": "2023-04-06T11:06:10.250547Z"
    },
    "id": "-GWacIULCf8K",
    "outputId": "3a266365-cf5f-4e9c-8bf0-1f07f4bbfb8a"
   },
   "outputs": [],
   "source": [
    "import pickle\n",
    "#save history\n",
    "with open('/kaggle/working/history_vgg16', 'wb') as file_pi:\n",
    "    pickle.dump(history_vgg16.history, file_pi)\n",
    "print('saved')"
   ]
  },
  {
   "cell_type": "code",
   "execution_count": null,
   "metadata": {
    "id": "PPrO1lCsCf8L"
   },
   "outputs": [],
   "source": [
    "#load history\n",
    "with open('/kaggle/working/history', \"rb\") as file_pi:\n",
    "    history1 = pickle.load(file_pi)"
   ]
  },
  {
   "cell_type": "markdown",
   "metadata": {
    "id": "WCfgxCghCf8L"
   },
   "source": [
    "# 2- Inception"
   ]
  },
  {
   "cell_type": "markdown",
   "metadata": {
    "id": "IpghI9UeCf8L"
   },
   "source": [
    "Loading the Base Model"
   ]
  },
  {
   "cell_type": "code",
   "execution_count": null,
   "metadata": {
    "execution": {
     "iopub.execute_input": "2023-04-06T10:07:52.925347Z",
     "iopub.status.busy": "2023-04-06T10:07:52.924231Z",
     "iopub.status.idle": "2023-04-06T10:07:56.059519Z",
     "shell.execute_reply": "2023-04-06T10:07:56.058482Z",
     "shell.execute_reply.started": "2023-04-06T10:07:52.925308Z"
    },
    "id": "7P4nSvS1Cf8M",
    "outputId": "2ffa484c-50b0-4267-b4f0-cd2f8c30608d"
   },
   "outputs": [],
   "source": [
    "from tensorflow.keras.applications.inception_v3 import InceptionV3\n",
    "base_model = InceptionV3(input_shape = (512, 512, 3),\n",
    "                         include_top = False,\n",
    "                         weights = 'imagenet'\n",
    "                        )\n",
    "\n",
    "# Freeze all layers in the base model so they are not trained during the fine-tuning process\n",
    "for layer in base_model.layers:\n",
    "    layer.trainable = False\n",
    "\n",
    "# Add a new classifier on top of the pre-trained model\n",
    "x = base_model.output\n",
    "x = Flatten()(x)\n",
    "x = Dense(256, activation='relu')(x)\n",
    "predictions = Dense(1, activation='sigmoid')(x)\n",
    "model_incept = Model(inputs=base_model.input, outputs=predictions)"
   ]
  },
  {
   "cell_type": "markdown",
   "metadata": {
    "id": "3bSfJS64Cf8M"
   },
   "source": [
    "Compile and Fit"
   ]
  },
  {
   "cell_type": "code",
   "execution_count": null,
   "metadata": {
    "execution": {
     "iopub.execute_input": "2023-04-06T10:07:56.061307Z",
     "iopub.status.busy": "2023-04-06T10:07:56.060950Z",
     "iopub.status.idle": "2023-04-06T10:07:56.081878Z",
     "shell.execute_reply": "2023-04-06T10:07:56.080974Z",
     "shell.execute_reply.started": "2023-04-06T10:07:56.061273Z"
    },
    "id": "qOFvfjJcCf8M"
   },
   "outputs": [],
   "source": [
    "# Compile the model with binary cross-entropy loss and Adam optimizer\n",
    "model_incept.compile(loss='binary_crossentropy',\n",
    "              optimizer='adam',\n",
    "              metrics=['accuracy'])"
   ]
  },
  {
   "cell_type": "code",
   "execution_count": null,
   "metadata": {
    "execution": {
     "iopub.execute_input": "2023-04-06T10:07:56.083743Z",
     "iopub.status.busy": "2023-04-06T10:07:56.083302Z",
     "iopub.status.idle": "2023-04-06T10:07:56.089408Z",
     "shell.execute_reply": "2023-04-06T10:07:56.088359Z",
     "shell.execute_reply.started": "2023-04-06T10:07:56.083706Z"
    },
    "id": "2fo3EbxsCf8M"
   },
   "outputs": [],
   "source": [
    "incept_model_name=\"best_incept_Model.h5\"\n",
    "checkpoint = ModelCheckpoint(incept_model_name,  # model filename\n",
    "                             monitor='loss',\n",
    "                             verbose=1, # verbosity - 0 or 1\n",
    "                             save_best_only= True,\n",
    "                             mode='auto')\n",
    "early_stopping = EarlyStopping(monitor='loss',\n",
    "                               patience=5,\n",
    "                               verbose=1,\n",
    "                               mode='auto')"
   ]
  },
  {
   "cell_type": "code",
   "execution_count": null,
   "metadata": {
    "execution": {
     "iopub.execute_input": "2023-04-06T10:07:56.091782Z",
     "iopub.status.busy": "2023-04-06T10:07:56.090709Z",
     "iopub.status.idle": "2023-04-06T10:13:00.705028Z",
     "shell.execute_reply": "2023-04-06T10:13:00.703999Z",
     "shell.execute_reply.started": "2023-04-06T10:07:56.091746Z"
    },
    "id": "8TszuKlPCf8N",
    "outputId": "f78f8cc3-8a5f-40b3-a858-2d4c6ad4f920"
   },
   "outputs": [],
   "source": [
    "# Train the model\n",
    "history_incept=model_incept.fit(train_generator,\n",
    "          steps_per_epoch=len(train_generator),\n",
    "          epochs=nb_epochs,\n",
    "          validation_data=validation_generator,\n",
    "          validation_steps=len(validation_generator),\n",
    "          callbacks=[checkpoint, early_stopping]\n",
    "        )"
   ]
  },
  {
   "cell_type": "code",
   "execution_count": null,
   "metadata": {
    "execution": {
     "iopub.execute_input": "2023-04-06T10:13:00.707438Z",
     "iopub.status.busy": "2023-04-06T10:13:00.706773Z",
     "iopub.status.idle": "2023-04-06T10:13:08.857613Z",
     "shell.execute_reply": "2023-04-06T10:13:08.856388Z",
     "shell.execute_reply.started": "2023-04-06T10:13:00.707399Z"
    },
    "id": "x0Lady1fCf8N",
    "outputId": "665f12a4-9894-40d3-8281-7616a17c0df8"
   },
   "outputs": [],
   "source": [
    "# load best model\n",
    "best_incept = keras.models.load_model('/kaggle/working/'+incept_model_name)\n",
    "print('loaded...')"
   ]
  },
  {
   "cell_type": "code",
   "execution_count": null,
   "metadata": {
    "execution": {
     "iopub.execute_input": "2023-04-06T10:13:08.859723Z",
     "iopub.status.busy": "2023-04-06T10:13:08.859096Z",
     "iopub.status.idle": "2023-04-06T10:13:09.393651Z",
     "shell.execute_reply": "2023-04-06T10:13:09.392621Z",
     "shell.execute_reply.started": "2023-04-06T10:13:08.859664Z"
    },
    "id": "DDF1IOx3Cf8O",
    "outputId": "06d68fe1-8938-489b-9579-e21c5750ad04"
   },
   "outputs": [],
   "source": [
    "plt.figure(figsize=(10, 40))\n",
    "\n",
    "for idx, key in enumerate(history_incept.history.keys()):\n",
    "\n",
    "    ax = plt.subplot(8, 2, 1 + idx)\n",
    "    plt.title(key)\n",
    "    plt.plot(history_incept.history[key])\n",
    "\n",
    "plt.show()"
   ]
  },
  {
   "cell_type": "code",
   "execution_count": null,
   "metadata": {
    "execution": {
     "iopub.execute_input": "2023-04-06T10:13:09.401675Z",
     "iopub.status.busy": "2023-04-06T10:13:09.400549Z",
     "iopub.status.idle": "2023-04-06T10:13:52.070944Z",
     "shell.execute_reply": "2023-04-06T10:13:52.069568Z",
     "shell.execute_reply.started": "2023-04-06T10:13:09.401618Z"
    },
    "id": "ADQGQB3FCf8O",
    "outputId": "1a4e1749-6c55-4623-99b9-fa9a8be53f16"
   },
   "outputs": [],
   "source": [
    "score = best_incept.evaluate(test_generator, steps=len(test_generator))\n",
    "print('Test loss:', score[0])\n",
    "print('Test accuracy:', score[1])"
   ]
  },
  {
   "cell_type": "code",
   "execution_count": null,
   "metadata": {
    "execution": {
     "iopub.execute_input": "2023-04-06T10:13:52.072964Z",
     "iopub.status.busy": "2023-04-06T10:13:52.072253Z",
     "iopub.status.idle": "2023-04-06T10:14:16.137313Z",
     "shell.execute_reply": "2023-04-06T10:14:16.136349Z",
     "shell.execute_reply.started": "2023-04-06T10:13:52.072921Z"
    },
    "id": "ek3-nqKHCf8O",
    "outputId": "ea693b75-11f6-4f46-9f3c-880865fd58b3"
   },
   "outputs": [],
   "source": [
    "#Confution Matrix and Classification Report\n",
    "Y_pred = best_incept.predict(test_generator, taille_test // batch_size+1)\n",
    "y_pred = np.argmax(Y_pred, axis=1)\n",
    "print('Confusion Matrix')\n",
    "print(confusion_matrix(test_generator.classes, y_pred))"
   ]
  },
  {
   "cell_type": "code",
   "execution_count": null,
   "metadata": {
    "execution": {
     "iopub.execute_input": "2023-04-06T10:14:16.139221Z",
     "iopub.status.busy": "2023-04-06T10:14:16.138748Z",
     "iopub.status.idle": "2023-04-06T10:14:16.153832Z",
     "shell.execute_reply": "2023-04-06T10:14:16.152270Z",
     "shell.execute_reply.started": "2023-04-06T10:14:16.139182Z"
    },
    "id": "48KwenjECf8e",
    "outputId": "6f665d27-5ee5-4155-b598-a603efbd390b"
   },
   "outputs": [],
   "source": [
    "print('Classification Report')\n",
    "target_names = ['Left', 'Right']\n",
    "print(classification_report(test_generator.classes,\n",
    "                            y_pred,\n",
    "                            target_names=target_names))"
   ]
  },
  {
   "cell_type": "code",
   "execution_count": null,
   "metadata": {
    "execution": {
     "iopub.execute_input": "2023-04-06T11:10:37.842200Z",
     "iopub.status.busy": "2023-04-06T11:10:37.841298Z",
     "iopub.status.idle": "2023-04-06T11:10:37.850086Z",
     "shell.execute_reply": "2023-04-06T11:10:37.848733Z",
     "shell.execute_reply.started": "2023-04-06T11:10:37.842155Z"
    },
    "id": "dAnEwFOyCf8i",
    "outputId": "f25fc4af-cb8b-4c71-db13-5a6a64ca6a58"
   },
   "outputs": [],
   "source": [
    "#save history\n",
    "with open('/kaggle/working/history_incept', 'wb') as file_pi:\n",
    "    pickle.dump(history_incept.history, file_pi)\n",
    "print('saved')"
   ]
  },
  {
   "cell_type": "markdown",
   "metadata": {
    "id": "T1nOoiS_Cf8k"
   },
   "source": [
    "# 3- ResNet50"
   ]
  },
  {
   "cell_type": "markdown",
   "metadata": {
    "id": "fvHbKsVDCf8k"
   },
   "source": [
    "Import the base model"
   ]
  },
  {
   "cell_type": "markdown",
   "metadata": {
    "id": "Yyu0RNG1Cf8l"
   },
   "source": [
    "Build and Compile the Model"
   ]
  },
  {
   "cell_type": "code",
   "execution_count": null,
   "metadata": {
    "execution": {
     "iopub.execute_input": "2023-04-06T10:14:16.164805Z",
     "iopub.status.busy": "2023-04-06T10:14:16.163943Z",
     "iopub.status.idle": "2023-04-06T10:14:18.482265Z",
     "shell.execute_reply": "2023-04-06T10:14:18.481248Z",
     "shell.execute_reply.started": "2023-04-06T10:14:16.164765Z"
    },
    "id": "5SwC6RNuCf8l",
    "outputId": "5c2ec555-43fc-4990-de42-98a04947316a"
   },
   "outputs": [],
   "source": [
    "from tensorflow.keras.applications import ResNet50\n",
    "\n",
    "base_model = ResNet50(input_shape=(512, 512,3),\n",
    "                      include_top=False,\n",
    "                      weights=\"imagenet\"\n",
    "                     )\n",
    "\n",
    "# Freeze all layers in the base model so they are not trained during the fine-tuning process\n",
    "for layer in base_model.layers:\n",
    "    layer.trainable = False\n",
    "\n",
    "# Add a new classifier on top of the pre-trained model\n",
    "x = base_model.output\n",
    "x = Flatten()(x)\n",
    "x = Dense(256, activation='relu')(x)\n",
    "predictions = Dense(1, activation='sigmoid')(x)\n",
    "model_resNet = Model(inputs=base_model.input, outputs=predictions)"
   ]
  },
  {
   "cell_type": "code",
   "execution_count": null,
   "metadata": {
    "execution": {
     "iopub.execute_input": "2023-04-06T10:14:18.484039Z",
     "iopub.status.busy": "2023-04-06T10:14:18.483648Z",
     "iopub.status.idle": "2023-04-06T10:14:18.500465Z",
     "shell.execute_reply": "2023-04-06T10:14:18.499299Z",
     "shell.execute_reply.started": "2023-04-06T10:14:18.484002Z"
    },
    "id": "BM3qoTMgCf8m"
   },
   "outputs": [],
   "source": [
    "# Compile the model with binary cross-entropy loss and Adam optimizer\n",
    "model_resNet.compile(loss='binary_crossentropy',\n",
    "              optimizer='adam',\n",
    "              metrics=['accuracy'])"
   ]
  },
  {
   "cell_type": "code",
   "execution_count": null,
   "metadata": {
    "execution": {
     "iopub.execute_input": "2023-04-06T10:14:18.503663Z",
     "iopub.status.busy": "2023-04-06T10:14:18.502857Z",
     "iopub.status.idle": "2023-04-06T10:14:18.509847Z",
     "shell.execute_reply": "2023-04-06T10:14:18.508729Z",
     "shell.execute_reply.started": "2023-04-06T10:14:18.503625Z"
    },
    "id": "n4tCKvekCf8m"
   },
   "outputs": [],
   "source": [
    "resNet_model_name=\"best_resNet_Model.h5\"\n",
    "checkpoint = ModelCheckpoint(resNet_model_name,  # model filename\n",
    "                             monitor='loss',\n",
    "                             verbose=1, # verbosity - 0 or 1\n",
    "                             save_best_only= True,\n",
    "                             mode='auto')\n",
    "early_stopping = EarlyStopping(monitor='loss',\n",
    "                               patience=5,\n",
    "                               verbose=1,\n",
    "                               mode='auto')"
   ]
  },
  {
   "cell_type": "markdown",
   "metadata": {
    "id": "A57UqcsaCf8m"
   },
   "source": [
    "Fitting the model"
   ]
  },
  {
   "cell_type": "code",
   "execution_count": null,
   "metadata": {
    "execution": {
     "iopub.execute_input": "2023-04-06T10:14:18.511956Z",
     "iopub.status.busy": "2023-04-06T10:14:18.511484Z",
     "iopub.status.idle": "2023-04-06T10:21:50.225116Z",
     "shell.execute_reply": "2023-04-06T10:21:50.223493Z",
     "shell.execute_reply.started": "2023-04-06T10:14:18.511917Z"
    },
    "id": "NkXrH-nVCf8n",
    "outputId": "7dad5ee3-77aa-487f-a6fe-8292e4f60060"
   },
   "outputs": [],
   "source": [
    "# Train the model\n",
    "history_resNet=model_resNet.fit(train_generator,\n",
    "          steps_per_epoch=len(train_generator),\n",
    "          epochs=nb_epochs,\n",
    "          validation_data=validation_generator,\n",
    "          validation_steps=len(validation_generator),\n",
    "          callbacks=[checkpoint, early_stopping]\n",
    "        )"
   ]
  },
  {
   "cell_type": "code",
   "execution_count": null,
   "metadata": {
    "execution": {
     "iopub.execute_input": "2023-04-06T10:21:50.228001Z",
     "iopub.status.busy": "2023-04-06T10:21:50.227306Z",
     "iopub.status.idle": "2023-04-06T10:21:50.730435Z",
     "shell.execute_reply": "2023-04-06T10:21:50.729450Z",
     "shell.execute_reply.started": "2023-04-06T10:21:50.227959Z"
    },
    "id": "AY0_T681Cf8n",
    "outputId": "33454d20-7f80-42fc-9021-ee3f7c80b1b3"
   },
   "outputs": [],
   "source": [
    "plt.figure(figsize=(10, 40))\n",
    "\n",
    "for idx, key in enumerate(history_resNet.history.keys()):\n",
    "\n",
    "    ax = plt.subplot(8, 2, 1 + idx)\n",
    "    plt.title(key)\n",
    "    plt.plot(history_resNet.history[key])\n",
    "\n",
    "plt.show()"
   ]
  },
  {
   "cell_type": "code",
   "execution_count": null,
   "metadata": {
    "execution": {
     "iopub.execute_input": "2023-04-06T10:21:50.732295Z",
     "iopub.status.busy": "2023-04-06T10:21:50.731837Z",
     "iopub.status.idle": "2023-04-06T10:22:00.465725Z",
     "shell.execute_reply": "2023-04-06T10:22:00.464726Z",
     "shell.execute_reply.started": "2023-04-06T10:21:50.732255Z"
    },
    "id": "Dj9d8d4_Cf8o",
    "outputId": "85eefc82-8eb9-4944-82a8-ad2d923aa5b6"
   },
   "outputs": [],
   "source": [
    "# load best model\n",
    "best_resNet = keras.models.load_model('/kaggle/working/'+resNet_model_name)\n",
    "print('loaded...')"
   ]
  },
  {
   "cell_type": "code",
   "execution_count": null,
   "metadata": {
    "execution": {
     "iopub.execute_input": "2023-04-06T10:22:00.467668Z",
     "iopub.status.busy": "2023-04-06T10:22:00.467290Z",
     "iopub.status.idle": "2023-04-06T10:22:42.912776Z",
     "shell.execute_reply": "2023-04-06T10:22:42.911478Z",
     "shell.execute_reply.started": "2023-04-06T10:22:00.467628Z"
    },
    "id": "8nFjkTMhCf8o",
    "outputId": "f8336894-7e32-48c6-b26d-d13c2a0dcfb3"
   },
   "outputs": [],
   "source": [
    "score = best_resNet.evaluate(test_generator, steps=len(test_generator))\n",
    "print('Test loss:', score[0])\n",
    "print('Test accuracy:', score[1])"
   ]
  },
  {
   "cell_type": "code",
   "execution_count": null,
   "metadata": {
    "execution": {
     "iopub.execute_input": "2023-04-06T10:22:42.915154Z",
     "iopub.status.busy": "2023-04-06T10:22:42.914779Z",
     "iopub.status.idle": "2023-04-06T10:23:07.919142Z",
     "shell.execute_reply": "2023-04-06T10:23:07.916572Z",
     "shell.execute_reply.started": "2023-04-06T10:22:42.915115Z"
    },
    "id": "zZYpoTvbCf8p",
    "outputId": "eeb441d1-2361-404f-b47a-f417e7524441"
   },
   "outputs": [],
   "source": [
    "#Confution Matrix and Classification Report\n",
    "Y_pred = best_resNet.predict(test_generator, taille_test // batch_size+1)\n",
    "y_pred = np.argmax(Y_pred, axis=1)\n",
    "print('Confusion Matrix')\n",
    "print(confusion_matrix(test_generator.classes, y_pred))"
   ]
  },
  {
   "cell_type": "code",
   "execution_count": null,
   "metadata": {
    "execution": {
     "iopub.execute_input": "2023-04-06T10:23:07.922144Z",
     "iopub.status.busy": "2023-04-06T10:23:07.921127Z",
     "iopub.status.idle": "2023-04-06T10:23:07.946341Z",
     "shell.execute_reply": "2023-04-06T10:23:07.945142Z",
     "shell.execute_reply.started": "2023-04-06T10:23:07.922096Z"
    },
    "id": "Wn_cCJriCf8p",
    "outputId": "8ffbf0f1-5070-4eb3-a505-fc2fab33558d"
   },
   "outputs": [],
   "source": [
    "print('Classification Report')\n",
    "target_names = ['Left', 'Right']\n",
    "print(classification_report(test_generator.classes,\n",
    "                            y_pred,\n",
    "                            target_names=target_names))"
   ]
  },
  {
   "cell_type": "code",
   "execution_count": null,
   "metadata": {
    "execution": {
     "iopub.execute_input": "2023-04-06T11:11:29.933505Z",
     "iopub.status.busy": "2023-04-06T11:11:29.932518Z",
     "iopub.status.idle": "2023-04-06T11:11:29.940818Z",
     "shell.execute_reply": "2023-04-06T11:11:29.939604Z",
     "shell.execute_reply.started": "2023-04-06T11:11:29.933451Z"
    },
    "id": "snDmOpcpCf8q",
    "outputId": "aa2586fe-c76e-479e-c81a-bbe0e232fcc7"
   },
   "outputs": [],
   "source": [
    "#save history\n",
    "with open('/kaggle/working/history_resNet', 'wb') as file_pi:\n",
    "    pickle.dump(history_resNet.history, file_pi)\n",
    "print('saved')"
   ]
  },
  {
   "cell_type": "markdown",
   "metadata": {
    "id": "OBzCIOdXCf8q"
   },
   "source": [
    "# 4- EfficientNet"
   ]
  },
  {
   "cell_type": "markdown",
   "metadata": {
    "id": "tPNsE_5rCf8q"
   },
   "source": [
    "Loading the Base Model"
   ]
  },
  {
   "cell_type": "code",
   "execution_count": null,
   "metadata": {
    "execution": {
     "iopub.execute_input": "2023-04-06T10:23:07.962910Z",
     "iopub.status.busy": "2023-04-06T10:23:07.961464Z",
     "iopub.status.idle": "2023-04-06T10:23:23.002396Z",
     "shell.execute_reply": "2023-04-06T10:23:23.001123Z",
     "shell.execute_reply.started": "2023-04-06T10:23:07.962870Z"
    },
    "id": "_G-7oya1Cf8t",
    "outputId": "67747e5d-7a13-434c-f139-68bab1c7ec03"
   },
   "outputs": [],
   "source": [
    "!pip install efficientnet"
   ]
  },
  {
   "cell_type": "code",
   "execution_count": null,
   "metadata": {
    "execution": {
     "iopub.execute_input": "2023-04-06T10:23:23.006422Z",
     "iopub.status.busy": "2023-04-06T10:23:23.006029Z",
     "iopub.status.idle": "2023-04-06T10:23:23.019096Z",
     "shell.execute_reply": "2023-04-06T10:23:23.018078Z",
     "shell.execute_reply.started": "2023-04-06T10:23:23.006381Z"
    },
    "id": "mA4qRp1QCf8u"
   },
   "outputs": [],
   "source": [
    "eff_model_name=\"best_eff_Model.h5\"\n",
    "checkpoint = ModelCheckpoint(eff_model_name,  # model filename\n",
    "                             monitor='loss',\n",
    "                             verbose=1, # verbosity - 0 or 1\n",
    "                             save_best_only= True,\n",
    "                             mode='auto')\n",
    "early_stopping = EarlyStopping(monitor='loss',\n",
    "                               patience=5,\n",
    "                               verbose=1,\n",
    "                               mode='auto')"
   ]
  },
  {
   "cell_type": "code",
   "execution_count": null,
   "metadata": {
    "execution": {
     "iopub.execute_input": "2023-04-06T10:23:23.024509Z",
     "iopub.status.busy": "2023-04-06T10:23:23.023436Z",
     "iopub.status.idle": "2023-04-06T10:23:26.387524Z",
     "shell.execute_reply": "2023-04-06T10:23:26.386402Z",
     "shell.execute_reply.started": "2023-04-06T10:23:23.024474Z"
    },
    "id": "tKAAC_uCCf8u",
    "outputId": "c7b41c59-d968-4e7a-bda5-4db583916d3c"
   },
   "outputs": [],
   "source": [
    "import efficientnet.keras as efn\n",
    "base_model = efn.EfficientNetB0(input_shape = (512, 512, 3),\n",
    "                                include_top = False,\n",
    "                                weights = 'imagenet')\n",
    "\n",
    "for layer in base_model.layers:\n",
    "    layer.trainable = False\n",
    "\n",
    "# Add a new classifier on top of the pre-trained model\n",
    "x = base_model.output\n",
    "x = Flatten()(x)\n",
    "x = Dense(256, activation='relu')(x)\n",
    "predictions = Dense(1, activation='sigmoid')(x)\n",
    "model_eff = Model(inputs=base_model.input, outputs=predictions)"
   ]
  },
  {
   "cell_type": "code",
   "execution_count": null,
   "metadata": {
    "execution": {
     "iopub.execute_input": "2023-04-06T10:23:26.389120Z",
     "iopub.status.busy": "2023-04-06T10:23:26.388771Z",
     "iopub.status.idle": "2023-04-06T10:23:26.406455Z",
     "shell.execute_reply": "2023-04-06T10:23:26.405327Z",
     "shell.execute_reply.started": "2023-04-06T10:23:26.389086Z"
    },
    "id": "zS-5J7EXCf8v"
   },
   "outputs": [],
   "source": [
    "# Compile the model with binary cross-entropy loss and Adam optimizer\n",
    "model_eff.compile(loss='binary_crossentropy',\n",
    "              optimizer='adam',\n",
    "              metrics=['accuracy'])"
   ]
  },
  {
   "cell_type": "code",
   "execution_count": null,
   "metadata": {
    "execution": {
     "iopub.execute_input": "2023-04-06T10:23:26.408563Z",
     "iopub.status.busy": "2023-04-06T10:23:26.408177Z",
     "iopub.status.idle": "2023-04-06T10:29:11.783021Z",
     "shell.execute_reply": "2023-04-06T10:29:11.782039Z",
     "shell.execute_reply.started": "2023-04-06T10:23:26.408510Z"
    },
    "id": "fw1EqsnZCf8v",
    "outputId": "483c303e-670d-4ea5-f460-0c60e533100d"
   },
   "outputs": [],
   "source": [
    "# Train the model\n",
    "history_eff=model_eff.fit(train_generator,\n",
    "          steps_per_epoch=len(train_generator),\n",
    "          epochs=nb_epochs,\n",
    "          validation_data=validation_generator,\n",
    "          validation_steps=len(validation_generator),\n",
    "          callbacks=[checkpoint, early_stopping]\n",
    "        )"
   ]
  },
  {
   "cell_type": "code",
   "execution_count": null,
   "metadata": {
    "execution": {
     "iopub.execute_input": "2023-04-06T10:29:11.785110Z",
     "iopub.status.busy": "2023-04-06T10:29:11.784638Z",
     "iopub.status.idle": "2023-04-06T10:29:12.272653Z",
     "shell.execute_reply": "2023-04-06T10:29:12.271646Z",
     "shell.execute_reply.started": "2023-04-06T10:29:11.785073Z"
    },
    "id": "UiXVS-vTCf8v",
    "outputId": "f646f06e-f0c4-47da-8ca6-1b8045976bb7"
   },
   "outputs": [],
   "source": [
    "plt.figure(figsize=(10, 40))\n",
    "\n",
    "for idx, key in enumerate(history_eff.history.keys()):\n",
    "\n",
    "    ax = plt.subplot(8, 2, 1 + idx)\n",
    "    plt.title(key)\n",
    "    plt.plot(history_eff.history[key])\n",
    "\n",
    "plt.show()"
   ]
  },
  {
   "cell_type": "code",
   "execution_count": null,
   "metadata": {
    "execution": {
     "iopub.execute_input": "2023-04-06T10:29:12.275330Z",
     "iopub.status.busy": "2023-04-06T10:29:12.274245Z",
     "iopub.status.idle": "2023-04-06T10:29:19.003489Z",
     "shell.execute_reply": "2023-04-06T10:29:19.002288Z",
     "shell.execute_reply.started": "2023-04-06T10:29:12.275292Z"
    },
    "id": "1zLpL9dwCf8w",
    "outputId": "0e7db4f1-cbfa-4fad-9e00-2a16f9ef1309"
   },
   "outputs": [],
   "source": [
    "# load best model\n",
    "best_effNet = keras.models.load_model('/kaggle/working/'+eff_model_name)\n",
    "print('loaded...')"
   ]
  },
  {
   "cell_type": "code",
   "execution_count": null,
   "metadata": {
    "execution": {
     "iopub.execute_input": "2023-04-06T10:29:19.005527Z",
     "iopub.status.busy": "2023-04-06T10:29:19.005185Z",
     "iopub.status.idle": "2023-04-06T10:29:43.504986Z",
     "shell.execute_reply": "2023-04-06T10:29:43.500842Z",
     "shell.execute_reply.started": "2023-04-06T10:29:19.005491Z"
    },
    "id": "KQcqWXfACf8w",
    "outputId": "52eb4e8f-cfd6-4927-d822-ba053528422b"
   },
   "outputs": [],
   "source": [
    "score = best_effNet.evaluate(test_generator, steps=len(test_generator))\n",
    "print('Test loss:', score[0])\n",
    "print('Test accuracy:', score[1])"
   ]
  },
  {
   "cell_type": "code",
   "execution_count": null,
   "metadata": {
    "execution": {
     "iopub.execute_input": "2023-04-06T10:29:43.508720Z",
     "iopub.status.busy": "2023-04-06T10:29:43.507924Z",
     "iopub.status.idle": "2023-04-06T10:30:06.469757Z",
     "shell.execute_reply": "2023-04-06T10:30:06.468204Z",
     "shell.execute_reply.started": "2023-04-06T10:29:43.508655Z"
    },
    "id": "nAk8TdNzCf8x",
    "outputId": "50aa74ff-9d6d-4fea-cc4b-518a0eeffe9a"
   },
   "outputs": [],
   "source": [
    "#Confution Matrix and Classification Report\n",
    "Y_pred = best_effNet.predict(test_generator, taille_test // batch_size+1)\n",
    "y_pred = np.argmax(Y_pred, axis=1)\n",
    "print('Confusion Matrix')\n",
    "print(confusion_matrix(test_generator.classes, y_pred))"
   ]
  },
  {
   "cell_type": "code",
   "execution_count": null,
   "metadata": {
    "execution": {
     "iopub.execute_input": "2023-04-06T10:30:06.471661Z",
     "iopub.status.busy": "2023-04-06T10:30:06.471289Z",
     "iopub.status.idle": "2023-04-06T10:30:06.489577Z",
     "shell.execute_reply": "2023-04-06T10:30:06.488439Z",
     "shell.execute_reply.started": "2023-04-06T10:30:06.471623Z"
    },
    "id": "4HlL6l2CCf8x",
    "outputId": "98e039dc-8b28-47f7-a316-f0119f106365"
   },
   "outputs": [],
   "source": [
    "print('Classification Report')\n",
    "target_names = ['Left', 'Right']\n",
    "print(classification_report(test_generator.classes,\n",
    "                            y_pred,\n",
    "                            target_names=target_names))"
   ]
  },
  {
   "cell_type": "code",
   "execution_count": null,
   "metadata": {
    "execution": {
     "iopub.execute_input": "2023-04-06T10:30:06.492973Z",
     "iopub.status.busy": "2023-04-06T10:30:06.491327Z",
     "iopub.status.idle": "2023-04-06T10:33:26.957707Z",
     "shell.execute_reply": "2023-04-06T10:33:26.956438Z",
     "shell.execute_reply.started": "2023-04-06T10:30:06.492934Z"
    },
    "id": "-Nc2rVe7Cf8z",
    "outputId": "a9d19ef0-b1e9-479e-a588-c284944d65b0"
   },
   "outputs": [],
   "source": [
    "import os\n",
    "from pathlib import Path\n",
    "file='output.zip'\n",
    "if os.path.exists(Path(file)) :\n",
    "    os.remove(file)\n",
    "!zip -r output.zip /kaggle/working"
   ]
  },
  {
   "cell_type": "code",
   "execution_count": null,
   "metadata": {
    "execution": {
     "iopub.execute_input": "2023-04-06T11:12:23.294086Z",
     "iopub.status.busy": "2023-04-06T11:12:23.293121Z",
     "iopub.status.idle": "2023-04-06T11:12:23.301249Z",
     "shell.execute_reply": "2023-04-06T11:12:23.300108Z",
     "shell.execute_reply.started": "2023-04-06T11:12:23.294031Z"
    },
    "id": "30KDRkOFCf8z",
    "outputId": "92b2aa85-73de-4cbb-f014-fb5d36924cec"
   },
   "outputs": [],
   "source": [
    "#save history\n",
    "with open('/kaggle/working/history_eff', 'wb') as file_pi:\n",
    "    pickle.dump(history_eff.history, file_pi)\n",
    "print('saved')"
   ]
  }
 ],
 "metadata": {
  "colab": {
   "provenance": []
  },
  "kernelspec": {
   "display_name": "Python 3 (ipykernel)",
   "language": "python",
   "name": "python3"
  },
  "language_info": {
   "codemirror_mode": {
    "name": "ipython",
    "version": 3
   },
   "file_extension": ".py",
   "mimetype": "text/x-python",
   "name": "python",
   "nbconvert_exporter": "python",
   "pygments_lexer": "ipython3",
   "version": "3.10.6"
  }
 },
 "nbformat": 4,
 "nbformat_minor": 1
}
